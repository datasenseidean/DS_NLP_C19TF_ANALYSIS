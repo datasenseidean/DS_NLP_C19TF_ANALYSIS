{
 "cells": [
  {
   "cell_type": "markdown",
   "metadata": {},
   "source": [
    "## Data gathering"
   ]
  },
  {
   "cell_type": "markdown",
   "metadata": {},
   "source": [
    "### Import resources"
   ]
  },
  {
   "cell_type": "code",
   "execution_count": null,
   "metadata": {},
   "outputs": [],
   "source": [
    "import pprint\n",
    "from textblob import TextBlob\n",
    "#from textblob.sentiments import NaiveBayesAnalyzer\n",
    "import pandas as pd\n",
    "import numpy as np\n",
    "import time\n",
    "%run ../../../Creds/G/dsd_google_drive_access.py #import credentials to source; includes gspread library"
   ]
  },
  {
   "cell_type": "markdown",
   "metadata": {},
   "source": [
    "### Retrieve data"
   ]
  },
  {
   "cell_type": "code",
   "execution_count": null,
   "metadata": {},
   "outputs": [],
   "source": [
    "workbook = client.open('Coronavirus Task Force Press Briefing 04032020')\n",
    "#worksheet_list = workbook.worksheets()\n",
    "#print(worksheet_list)"
   ]
  },
  {
   "cell_type": "code",
   "execution_count": null,
   "metadata": {},
   "outputs": [],
   "source": [
    "\n",
    "sheet = workbook.worksheet(\"Sheet1\")\n",
    "pp = pprint.PrettyPrinter()\n",
    "data = sheet.get_all_records()\n",
    "pp.pprint(data)\n"
   ]
  },
  {
   "cell_type": "code",
   "execution_count": null,
   "metadata": {},
   "outputs": [],
   "source": [
    "#help(gspread.authorize(creds))"
   ]
  },
  {
   "cell_type": "markdown",
   "metadata": {},
   "source": [
    "## Prepare data\n"
   ]
  },
  {
   "cell_type": "code",
   "execution_count": null,
   "metadata": {},
   "outputs": [],
   "source": [
    "# convert data to data frame\n",
    "df_data = pd.DataFrame(data)\n",
    "df_data\n"
   ]
  },
  {
   "cell_type": "code",
   "execution_count": null,
   "metadata": {},
   "outputs": [],
   "source": [
    "df_data[['Speaker', 'Words']]"
   ]
  },
  {
   "cell_type": "code",
   "execution_count": null,
   "metadata": {},
   "outputs": [],
   "source": [
    "#select text column for specific speaker\n",
    "speaker = 'Donald J. Trump'\n",
    "remarks = df_data.Words[df_data.Speaker == speaker]\n",
    "remarks"
   ]
  },
  {
   "cell_type": "code",
   "execution_count": null,
   "metadata": {},
   "outputs": [],
   "source": [
    "#instantiate TextBlob instance as blob\n",
    "blob = str()\n",
    "type(blob)\n",
    "\n",
    "#help(TextBlob)"
   ]
  },
  {
   "cell_type": "code",
   "execution_count": null,
   "metadata": {},
   "outputs": [],
   "source": [
    "#concatenate each row of remarks into one blob\n",
    "for r in remarks:\n",
    "    blob = blob + r\n",
    "#for sentence in blob.sentences: print(sentence.sentiment.polarity)"
   ]
  },
  {
   "cell_type": "code",
   "execution_count": null,
   "metadata": {},
   "outputs": [],
   "source": [
    "print(blob)"
   ]
  },
  {
   "cell_type": "markdown",
   "metadata": {},
   "source": [
    "## Remarks scoring"
   ]
  },
  {
   "cell_type": "markdown",
   "metadata": {},
   "source": [
    "### Scoring by summary"
   ]
  },
  {
   "cell_type": "code",
   "execution_count": null,
   "metadata": {},
   "outputs": [],
   "source": [
    "#convert string to textblob\n",
    "txtblb_blob = TextBlob(blob)\n",
    "txtblb_NBA_blob2 = TextBlob(blob,analyzer=NaiveBayesAnalyzer())\n"
   ]
  },
  {
   "cell_type": "code",
   "execution_count": null,
   "metadata": {},
   "outputs": [],
   "source": [
    "\n",
    "polarity_score = txtblb_blob.sentiment.polarity #[-1.0, 1.0]\n",
    "subjectivity_score = txtblb_blob.sentiment.subjectivity #[0.0, 1.0]\n",
    "classification = txtblb_NBA_blob2.sentiment.classification\n",
    "pos_score = txtblb_NBA_blob2.sentiment.p_pos\n",
    "neg_score = txtblb_NBA_blob2.sentiment.p_neg\n",
    "index = 20\n",
    "#assign worksheet to variable\n",
    "sheet3 = workbook.worksheet(\"Speaker Score Summary\")\n",
    "\n",
    "print('Summary ID: {}'.format(index))\n",
    "sheet3.update_cell(2, 1, index) #update summary id column with index value in google spreadsheet\n",
    "time.sleep(1)\n",
    "print('Speaker: {}'.format(speaker))\n",
    "sheet3.update_cell(2, 2, speaker) #update speaker column with speaker value in google spreadsheet\n",
    "time.sleep(1)\n",
    "print('Words: {}'.format(blob))\n",
    "sheet3.update_cell(2, 3, blob) #update Words column with blob value in google spreadsheet\n",
    "time.sleep(1)\n",
    "print('Classification: {}'.format(classification))\n",
    "sheet3.update_cell(2, 4, classification) #update classifcation column with classification value in google spreadsheet\n",
    "time.sleep(1)\n",
    "print('Positivity Score: {}'.format(pos_score))\n",
    "sheet3.update_cell(2, 5, pos_score) #update positivity column with s_pos_score value in google spreadsheet\n",
    "time.sleep(1)\n",
    "print('Negativity Score: {}'.format(neg_score))\n",
    "sheet3.update_cell(2, 6, neg_score) #update negativity column with s_neg_score value in google spreadsheet\n",
    "time.sleep(1)\n",
    "print('Polarity Score (-1.0, 1.0): {}'.format(polarity_score))\n",
    "sheet3.update_cell(2, 7, polarity_score) #update Polarity column with s_polarity_score value in google spreadsheet\n",
    "time.sleep(1)\n",
    "print('Subjectivity Score (0.0, 1.0): {}'.format(subjectivity_score))\n",
    "sheet3.update_cell(2, 8, subjectivity_score) #update Subjectivity column with s_subjectivty_score value in google spreadsheet"
   ]
  },
  {
   "cell_type": "code",
   "execution_count": null,
   "metadata": {},
   "outputs": [],
   "source": [
    "data3 = sheet3.get_all_records()\n",
    "pp.pprint(data3)"
   ]
  },
  {
   "cell_type": "code",
   "execution_count": null,
   "metadata": {},
   "outputs": [],
   "source": [
    "#wait 100 seconda before starting sentence analysis\n",
    "time.sleep(100)"
   ]
  },
  {
   "cell_type": "markdown",
   "metadata": {},
   "source": [
    "### Scoring by sentence"
   ]
  },
  {
   "cell_type": "code",
   "execution_count": null,
   "metadata": {},
   "outputs": [],
   "source": [
    "sheet2 = workbook.worksheet(\"Speaker Score by Sentence\")\n",
    "time.sleep(15)\n",
    "\n",
    "for s_ID, sentence in enumerate(txtblb_blob.sentences, start=2): \n",
    "    s_polarity_score = sentence.sentiment.polarity\n",
    "    s_subjectivity_score = sentence.sentiment.subjectivity\n",
    "    \n",
    "    s_blob = TextBlob(str(sentence),analyzer=NaiveBayesAnalyzer())\n",
    "    s_classification = s_blob.sentiment.classification\n",
    "    s_pos_score = s_blob.sentiment.p_pos\n",
    "    s_neg_score = s_blob.sentiment.p_neg\n",
    "    print('Summary ID: {}'.format(index))\n",
    "    sheet2.update_cell(s_ID, 1, index) #update summary id column with index value in google spreadsheet\n",
    "    print('Sentence ID: {}'.format(s_ID))\n",
    "    sheet2.update_cell(s_ID, 2, s_ID) #update sentence id column with sentence value in google spreadsheet\n",
    "    print('Sentence: {}'.format(sentence))\n",
    "    sheet2.update_cell(s_ID, 3, str(sentence)) #update sentence column with speaker value in google spreadsheet\n",
    "    print('Classification: {}'.format(s_classification))\n",
    "    sheet2.update_cell(s_ID, 4, s_classification) #update classifcation column with s_classification value in google spreadsheet\n",
    "    print('Positivity Score: {}'.format(s_pos_score))\n",
    "    sheet2.update_cell(s_ID, 5, s_pos_score) #update positivity column with s_pos_score value in google spreadsheet\n",
    "    print('Negativity Score: {}'.format(s_neg_score))\n",
    "    sheet2.update_cell(s_ID, 6, s_neg_score) #update negativity column with s_neg_score value in google spreadsheet\n",
    "    print('Polarity Score (-1.0, 1.0): {}'.format(s_polarity_score))\n",
    "    sheet2.update_cell(s_ID, 7, s_polarity_score) #update Polarity column with s_polarity_score value in google spreadsheet\n",
    "    print('Subjectivity Score (0.0, 1.0): {}'.format(s_subjectivity_score))\n",
    "    sheet2.update_cell(s_ID, 8, s_subjectivity_score) #update Subjectivity column with s_subjectivty_score value in google spreadsheet\n",
    "    #wait 15 seconda before starting sentence analysis\n",
    "    time.sleep(15)\n",
    "    \n",
    "    #print(\"The sentiment statistics for {}  are: Sentiment: {}, Polarity: {}, Subjectivity: {}\".format(sentence, s_classification, s_polarity, s_subjectivity)) "
   ]
  },
  {
   "cell_type": "code",
   "execution_count": null,
   "metadata": {},
   "outputs": [],
   "source": [
    "updated_data = sheet2.get_all_records()\n",
    "\n",
    "\n"
   ]
  }
 ],
 "metadata": {
  "kernelspec": {
   "display_name": "Python 3",
   "language": "python",
   "name": "python3"
  },
  "language_info": {
   "codemirror_mode": {
    "name": "ipython",
    "version": 3
   },
   "file_extension": ".py",
   "mimetype": "text/x-python",
   "name": "python",
   "nbconvert_exporter": "python",
   "pygments_lexer": "ipython3",
   "version": "3.7.6"
  }
 },
 "nbformat": 4,
 "nbformat_minor": 4
}
