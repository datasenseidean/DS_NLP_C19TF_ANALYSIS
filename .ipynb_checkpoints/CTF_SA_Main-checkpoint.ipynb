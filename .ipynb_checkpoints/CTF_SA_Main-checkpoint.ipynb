{
 "cells": [
  {
   "cell_type": "markdown",
   "metadata": {},
   "source": [
    "## Reference Materials"
   ]
  },
  {
   "cell_type": "markdown",
   "metadata": {},
   "source": [
    "Accessing Google Spreadsheet Data using Python,  K Jayasekara, April 14, 2019, URL:https://towardsdatascience.com/accessing-google-spreadsheet-data-using-python-90a5bc214fd2\n",
    "\n",
    "textblob Documentation Release 0.15.2, Steven Loria, December 26, 2018, URL:https://buildmedia.readthedocs.org/media/pdf/textblob/dev/textblob.pdf\n",
    "\n",
    "Remarks by President Trump, Vice President Pence, and Members of the Coronavirus Task Force in Press Briefing, James S. Brady Press Briefing Room, April 3, 2020, URL:https://www.whitehouse.gov/briefings-statements/remarks-president-trump-vice-president-pence-members-coronavirus-task-force-press-briefing-18/\n",
    "\n",
    "Remarks by President Trump, Vice President Pence, and Members of the Coronavirus Task Force in Press Conference, James S. Brady Press Briefing Room, February 27, 2020, URL:https://www.whitehouse.gov/briefings-statements/remarks-president-trump-vice-president-pence-members-coronavirus-task-force-press-conference/"
   ]
  },
  {
   "cell_type": "markdown",
   "metadata": {},
   "source": [
    "## Problem Statement"
   ]
  },
  {
   "cell_type": "markdown",
   "metadata": {},
   "source": [
    "Listening to various tv shows, there seems to be a debate about President Trump having a change in tone about COVID-19. As you flip through channels and scroll social media posts, you can find perspectives on both sides of the argument. \n",
    "\n",
    "The primary goal of this analysis is to form an independent perspective on the sentiment conveyed by the president during his prepared remarks and deduce how it has changed over time.  A secondary goal is to deduce the potential basis for varying perspectivess.\n",
    "\n",
    "The answers to the following quesitons will provide the required information to acheive the primary and secondary goals: \n",
    "- What is the current overall sentiment?\n",
    "- How has it changed from the beginning of this crisis in the U.S.?\n",
    "- What specific sentences could be percieved negatively?\n",
    "- What specific sentences could be pervieved positively?"
   ]
  },
  {
   "cell_type": "markdown",
   "metadata": {},
   "source": [
    "### In Scope"
   ]
  },
  {
   "cell_type": "markdown",
   "metadata": {},
   "source": [
    "- 4/3/2020 remarks by Donald Trump\n",
    "- 2/27/2020 remarks by Donald Trump"
   ]
  },
  {
   "cell_type": "markdown",
   "metadata": {},
   "source": [
    "### Out of Scope"
   ]
  },
  {
   "cell_type": "markdown",
   "metadata": {},
   "source": [
    "- Q&A\n",
    "- Remarks from speakers other than Donald Trump\n"
   ]
  },
  {
   "cell_type": "markdown",
   "metadata": {},
   "source": [
    "## Hypothesis"
   ]
  },
  {
   "cell_type": "markdown",
   "metadata": {},
   "source": [
    "Based on the feedback from the media, it leads me to believe that there will be a negative sentiment overall; especially with Donald Trump."
   ]
  },
  {
   "cell_type": "markdown",
   "metadata": {},
   "source": [
    "## Run scoring of remarks"
   ]
  },
  {
   "cell_type": "code",
   "execution_count": null,
   "metadata": {},
   "outputs": [],
   "source": [
    "\n",
    "import sys \n",
    "import time\n",
    "if __name__ == '__main__':\n",
    "    \n",
    "    try:\n",
    "        print('Starting sentiment scoring code...')\n",
    "        %run CTF_SA_Sentence.ipynb #run code to score remarks and update results in spreadsheet\n",
    "        print(updated_data)\n",
    "\n",
    "    except:\n",
    "\n",
    "        try:\n",
    "            print(\"Unable to run code at the moment\")\n",
    "            print(\"Collecting results from previous run\")\n",
    "            %run ../../../Creds/G/dsd_google_drive_access.py #import credentials to source; includes gspread library\n",
    "            workbook = client.open('Coronavirus Task Force Press Briefing 04032020')\n",
    "            print(\"Authorization passed\")\n",
    "            print(\"Retrieving data...\")\n",
    "            previous_data = workbook.worksheet(\"Speaker Score by Sentence\").get_all_records()\n",
    "            print(\"Successfully completed scoring.  Data can be accessed using previous_data variable name\")\n",
    "            \n",
    "        except:\n",
    "            sys.exit('Unable to retrieve data from previous run. Stopping program')\n",
    "            \n",
    "    else:\n",
    "        print(\"Successfully completed scoring.  Data can be accessed using updated_data variable name\")\n",
    "else:\n",
    "    print('Not in Main')"
   ]
  },
  {
   "cell_type": "code",
   "execution_count": null,
   "metadata": {},
   "outputs": [],
   "source": [
    "#print(updated_data)\n",
    "#print(previous_data)"
   ]
  },
  {
   "cell_type": "markdown",
   "metadata": {},
   "source": [
    "## Analysis"
   ]
  },
  {
   "cell_type": "code",
   "execution_count": null,
   "metadata": {},
   "outputs": [],
   "source": [
    "        import pandas as pd\n",
    "        import numpy as np\n",
    "        import seaborn as sns\n"
   ]
  },
  {
   "cell_type": "code",
   "execution_count": null,
   "metadata": {},
   "outputs": [],
   "source": [
    "df_data_sheet = pd.DataFrame(data_sheet)\n",
    "df_data_sheet"
   ]
  }
 ],
 "metadata": {
  "kernelspec": {
   "display_name": "Python 3",
   "language": "python",
   "name": "python3"
  },
  "language_info": {
   "codemirror_mode": {
    "name": "ipython",
    "version": 3
   },
   "file_extension": ".py",
   "mimetype": "text/x-python",
   "name": "python",
   "nbconvert_exporter": "python",
   "pygments_lexer": "ipython3",
   "version": "3.7.6"
  }
 },
 "nbformat": 4,
 "nbformat_minor": 4
}
